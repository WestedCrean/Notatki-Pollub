{
 "cells": [
  {
   "cell_type": "markdown",
   "metadata": {},
   "source": [
    "# Notatki Kamila\n",
    "\n",
    "Czego w nich nie ma:\n",
    "1. Zastosowań i schematu multimetru.\n",
    "2. Schematu i obsługi oscyloskopu.\n",
    "A to dlatego, że to jest długie, skomplikowane i było na ćwiczeniach, jeżeli bardzo jesteście głodni tej wiedzy to jest to opisane tak samo jak na wykładzie w pliku KOLOS II, o którym każdy mam nadzieję wie.\n",
    "Potem jest raczej wszystko aż ukazują się przed nami przetworniki a/c, w notatkach napisałem tylko z kompensacją równomierną, natomiast darowałem sobie następujące a/c:\n",
    "1. Z kompensacją wagową.\n",
    "2. Z podwójnym całkowaniem.\n",
    "3. Przetwarzania równoległego.\n",
    "Szczerze bo w chuju mam te studia i wolałbym się uczyć jakichś przydatnych rzeczy ale jak bardzo bardzo chcecie znać wszystkie schematy przetworników a/c to one też są w tym pliku KOLOS II, na wykładowe mieliśmy do każdego schemat + wykres bez żadnego opisu, natomiast w tym pliku są opisane ale myślę, że skoro nie podał tego na wykładzie to i nie da na kolosie. Powodzenia i wzajemnego inspirowania się..."
   ]
  },
  {
   "cell_type": "markdown",
   "metadata": {
    "slideshow": {
     "slide_type": "slide"
    }
   },
   "source": [
    "## Analogowe przyrzady pomiarowe:\n",
    "\n",
    "- magnetoelektryczne\n",
    "- elektromagnetyczne\n",
    "- elektrodynamiczne\n",
    "- ferrodynamiczne\n",
    "- elektrostatyczne\n",
    "\n",
    "### Mierniki magnetoelektryczne\n",
    "\n",
    "Wyróżniono cztery:\n",
    "- liniowe odchylenia wskazówki w zależności od natężenia przepływającego prądu\n",
    "- mierzymy wartość średnią (do pomiaru napięcie przemiennych stosowane są dodatkowe przetworniki )\n",
    "- kierunek wychylenia wskazówki zależy od kierunku przepływającego prądu\n"
   ]
  },
  {
   "cell_type": "markdown",
   "metadata": {},
   "source": [
    "![metro_1.jpg](./metro_1.jpg)"
   ]
  },
  {
   "cell_type": "markdown",
   "metadata": {},
   "source": [
    "### Układy kondycjonowania sygnału pomiarowego\n",
    "\n",
    "![metro_2](./metro_2.jpg)\n",
    "\n",
    "**Kondycjonowanie sygnału pomiarowego** jest to dostosowanie rodzaju i poziomu oryginału do kolejnego bloku przetwarzania sygnału. ( ustroju przyrządu pomiarowego lub przetwornika a/c )\n",
    "\n",
    "### Bocznik\n",
    "\n",
    "![metro_3](./metro_3.jpg)\n",
    "\n",
    "$$U_b = I * R_b$$\n",
    "$$R_b * ( I - I_b) = rIp$$\n",
    "$Ib$ - prąd przepływający przez rezystor\n",
    "\n",
    "- przetwornik natężenia prądu w napięcie\n",
    "- nie zapewnia izolacji galwanicznej.\n",
    "\n",
    "### Dzielnik napięcia\n",
    "\n",
    "![metro_4](./metro_4.jpg)\n",
    "\n",
    "\n",
    "$$K_w = \\frac{U_1}{U_2} = \\frac{R_1 + R_2}{R_2} = 1 + \\frac{R_1}{R_2}$$\n",
    "\n",
    "- służy do obniżenia napięcia\n",
    "- nie zapewnia izolacji galwanicznej.\n",
    "- dzielnik napięcia jak i bocznik można stosować zarówno przy prądzie stałym jak i przemiennym.\n"
   ]
  },
  {
   "cell_type": "markdown",
   "metadata": {},
   "source": [
    "### Przekładnik prądowy\n",
    "\n",
    "![metro_5](./metro_5.jpg)\n",
    "\n",
    "- Służy do zmiany wartości natężenia prądu\n",
    "- Zapewnia izolację galwaniczną\n",
    "- Pracuje tylko przy prądzie przemiennym"
   ]
  },
  {
   "cell_type": "markdown",
   "metadata": {},
   "source": [
    "### Przekładnik napięciowy\n",
    "\n",
    "![metro_6](./metro_6.jpg)\n",
    "\n",
    "### Wzmacniacz\n",
    "\n",
    "![metro_7](./metro_7.jpg)\n",
    "\n",
    "$$\\frac{U_1 - U_0}{Z_1} = \\frac{U_2 - U_0}{Z_2}$$\n",
    "\n",
    "$$U_2 = U_{wy} = -kU_0$$\n",
    "\n",
    "$$G = - \\frac{Z_2}{Z_0}  \\frac{1}{(1 + \\frac{Z_2}{Z_1}) \\frac{1}{k} + 1} \\approx - \\frac{Z_2}{Z_1}$$\n",
    "\n",
    "$$G = - \\frac{R_2}{R_1}$$\n",
    "\n",
    "![metro_8](./metro_8.jpg)\n",
    "\n",
    "$$U_z - U zakłócające$$\n",
    "$$U_{wy} = kU_1$$\n",
    "\n",
    "Parametry wzmacniacza pomiarowego\n",
    "\n",
    "- bardzo duże wzmocnienie różnicowe\n",
    "- silne tłumienie sygnału wspólnego\n",
    "- bardzo duża rezystancja wejściowa\n",
    "- bardzo mała rezystancja wyjściowa\n",
    "- bardzo małe napięcie niezrównoważenia\n",
    "- mały dryft czasowy i termiczny parametrów\n",
    "\n",
    "### Przetwornik C/A\n",
    "\n",
    "![metro_9](./metro_9.jpg)\n",
    "\n",
    "$$U_{wy} = U_ref * \\sum_{i=1}^{n} \\frac{a_i}{2^i}$$\n",
    "\n",
    "## Metody przetwarzania A/C\n",
    "\n",
    "1. Bezpośrednie: $u(t) \\rightarrow N(t) $\"liczba\"\n",
    "    - metody kompensacyjne\n",
    "        - równomierna\n",
    "        - wagowa\n",
    "    - metody bezpośredniego porównania\n",
    "        - równoległe\n",
    "        - szeregowe\n",
    "        - szeregowo-równoległe\n",
    "2. Pośrednie: $u(t) \\rightarrow$ wartość pośrednia $\\rightarrow N(t)$\n",
    "    - przetwarzanie $U \\rightarrow t$\n",
    "        - proste\n",
    "        - podwójne całkowanie\n",
    "        - całkowanie wielokrotne\n",
    "    - przetwarzanie $U \\rightarrow f$\n",
    "        - proste\n",
    "        - z równoważeniem ładunku\n",
    "        - delta - sigma\n",
    "    \n",
    "\n"
   ]
  },
  {
   "cell_type": "markdown",
   "metadata": {},
   "source": [
    "### Bramki logiczne\n",
    "\n",
    "![metro_10](./metro_10.jpg)\n",
    "\n",
    "| A | B | Y |\n",
    "| --- | --- | --- |\n",
    "| 0 | 0 | 0 |\n",
    "| 0 | 1 | 0 |\n",
    "| 1 | 0 | 0 |\n",
    "| 1 | 1 | 1 |\n",
    "\n",
    "![metro_11](./metro_11.jpg)\n",
    "\n",
    "|              | Y |\n",
    "| -------------- |   |\n",
    "| $U_1$ $>$ $U_2$  | 1 |\n",
    "| $U_1$ $\\leq$ $U_2$ | 0 |\n",
    "\n",
    "![metro_12](./metro_12.jpg)\n",
    "\n"
   ]
  }
 ],
 "metadata": {
  "kernelspec": {
   "display_name": "Python 3",
   "language": "python",
   "name": "python3"
  },
  "language_info": {
   "codemirror_mode": {
    "name": "ipython",
    "version": 3
   },
   "file_extension": ".py",
   "mimetype": "text/x-python",
   "name": "python",
   "nbconvert_exporter": "python",
   "pygments_lexer": "ipython3",
   "version": "3.6.5"
  }
 },
 "nbformat": 4,
 "nbformat_minor": 2
}
