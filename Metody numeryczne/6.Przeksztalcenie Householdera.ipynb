{
 "cells": [
  {
   "cell_type": "markdown",
   "metadata": {},
   "source": [
    "# Przeksztalcenie Householdera\n",
    "\n",
    "Dany jest wektor\n",
    "\n",
    "$a = \\begin{bmatrix}a_1\\\\...\\\\a_n\\end{bmatrix}$\n",
    "\n",
    "Przekształcenie Householdera $P$ przeprowadza wektor $a$ na kierunek wektora $e_!$\n",
    "\n",
    "Jest to przekształcenie nieosobliwe spełniające\n",
    "\n",
    "$$P^{-1} = P^{T} = P$$\n",
    "\n",
    "Zatem nie zmienia długości wektora (jest przeksztalceniem ortogonalnym)\n",
    "\n",
    "Powstaje macierze ortogonalna P taka, że:\n",
    "\n",
    "$$Pa = te_1$$\n",
    "\n",
    "$$||a|| = \\sqrt{\\sum_{i=1}^n(a_i)^2}$$\n",
    "\n",
    "$$a_1 = |a_1|e^{i\\phi}$$\n",
    "\n",
    "$$t = -|a|e^{i\\phi}$$"
   ]
  },
  {
   "cell_type": "code",
   "execution_count": null,
   "metadata": {},
   "outputs": [],
   "source": [
    "import numpy as np\n",
    "from scipy import linalg\n",
    "import matplotlib.pyplot as plt\n",
    "\n"
   ]
  }
 ],
 "metadata": {
  "kernelspec": {
   "display_name": "Python 3",
   "language": "python",
   "name": "python3"
  },
  "language_info": {
   "codemirror_mode": {
    "name": "ipython",
    "version": 3
   },
   "file_extension": ".py",
   "mimetype": "text/x-python",
   "name": "python",
   "nbconvert_exporter": "python",
   "pygments_lexer": "ipython3",
   "version": "3.6.5"
  }
 },
 "nbformat": 4,
 "nbformat_minor": 2
}
