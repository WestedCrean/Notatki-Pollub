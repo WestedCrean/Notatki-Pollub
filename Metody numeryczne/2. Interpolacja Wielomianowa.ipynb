{
 "cells": [
  {
   "cell_type": "markdown",
   "metadata": {},
   "source": [
    "# Interpolacja wielomianowa - interpolacja Lagrange'a\n",
    "\n",
    "Umożliwia wyznaczanie wzorów przybliżonych funkcji, przy założeniu że znane są wartości tej funkcji w skończonej liczbie punktów\n",
    "\n",
    "\n",
    "## Zagadnienie\n",
    "\n",
    "Znaleźć wielomian p, możliwie najniższego stopnia taki, że dla danych $n + 1$ punktów $(x_i,y_i), i=0,1,...,n$ jest $p(x_i) = y_i$\n",
    "\n",
    "Mówimy że wielomian $p$ interpoluje wartości $y_i$ w węzłach $x_i$\n",
    "\n",
    "$P_n$ - zbiór wielomianów co najwyżej $n$-tego stopnia postaci: \n",
    "$$p(x) = a_0 + a_1x + ... + a_nx^n$$"
   ]
  },
  {
   "cell_type": "markdown",
   "metadata": {},
   "source": [
    "### Zadanie 1:\n",
    "\n",
    "Znaleźć wielomian interpolacyjny Lagrange'a i obliczyć $p(2)$ dla funkcji danej tabelą:\n",
    "\n",
    "$$x_i = [ 0, 1, 3]$$\n",
    "$$y_i = [ 1, 3, 2]$$\n",
    "\n",
    "Obliczenia:\n",
    "$$p(2) = ?$$\n",
    "$$p(x)=\\sum_{i=1}^{n}y_il_i(x),$$ \n",
    "$$l_i(x)=\\prod_{j=0}^{n} \\frac{x-x_j}{x_i-x_j}$$"
   ]
  },
  {
   "cell_type": "code",
   "execution_count": 26,
   "metadata": {},
   "outputs": [
    {
     "name": "stdout",
     "output_type": "stream",
     "text": [
      "P(x) = 0.9053\n"
     ]
    }
   ],
   "source": [
    "import numpy as np\n",
    "import math\n",
    "\n",
    "pi = math.pi\n",
    "sqrt = math.sqrt\n",
    "x_i = [0,float(pi/4),float(pi/2)]\n",
    "y_i = [1,sqrt(2)/2,0]\n",
    "\n",
    "liczba_wezlow = 3\n",
    "\n",
    "x_szukany = float(pi/8)\n",
    "\n",
    "l_i = np.empty(liczba_wezlow)\n",
    "for i in range(0,liczba_wezlow):\n",
    "    l_i[i] = 1;\n",
    "    for k in range(0,liczba_wezlow):\n",
    "        if (k == i):\n",
    "            continue\n",
    "        l_i[i] *= (x_szukany - x_i[k]) / (x_i[i] - x_i[k])\n",
    "# obliczamy wielomian\n",
    "P_x = 0;\n",
    "for i in range(0, liczba_wezlow):\n",
    "    P_x += l_i[i] * y_i[i]\n",
    "\n",
    "print(f'P(x) = {P_x:.4f}')\n"
   ]
  },
  {
   "cell_type": "code",
   "execution_count": null,
   "metadata": {},
   "outputs": [],
   "source": []
  }
 ],
 "metadata": {
  "kernelspec": {
   "display_name": "Python 3",
   "language": "python",
   "name": "python3"
  },
  "language_info": {
   "codemirror_mode": {
    "name": "ipython",
    "version": 3
   },
   "file_extension": ".py",
   "mimetype": "text/x-python",
   "name": "python",
   "nbconvert_exporter": "python",
   "pygments_lexer": "ipython3",
   "version": "3.6.8"
  }
 },
 "nbformat": 4,
 "nbformat_minor": 2
}
