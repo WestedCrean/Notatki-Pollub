{
 "cells": [
  {
   "cell_type": "markdown",
   "metadata": {
    "slideshow": {
     "slide_type": "-"
    }
   },
   "source": [
    "# Arytmetyka zmiennopozycyjna\n",
    "\n",
    "Obliczenia zmiennopozycyjne są z samej swojej natury niedokładne:"
   ]
  },
  {
   "cell_type": "code",
   "execution_count": 8,
   "metadata": {},
   "outputs": [
    {
     "name": "stdout",
     "output_type": "stream",
     "text": [
      "30.00000000000005\n"
     ]
    }
   ],
   "source": [
    "sumakwot = 0.0\n",
    "kwota = 0.3\n",
    "liczba = 100\n",
    "\n",
    "for i in range(0,liczba):\n",
    "    sumakwot += kwota\n",
    "    \n",
    "print(sumakwot)"
   ]
  },
  {
   "cell_type": "markdown",
   "metadata": {},
   "source": [
    "*Zatem jak poprawnie zsumować float?*\n",
    "\n",
    "Zauważmy że $$0.65626 = \\frac{1}{2} + \\frac{1}{8} + \\frac{1}{32}$$\n",
    "\n",
    "Niech wszystkie elementy tablicy t[i] = 0.65625f"
   ]
  },
  {
   "cell_type": "code",
   "execution_count": 41,
   "metadata": {},
   "outputs": [
    {
     "name": "stdout",
     "output_type": "stream",
     "text": [
      "<class 'numpy.float32'>\n",
      "[0.65625 0.65625 0.65625 ... 0.65625 0.65625 0.65625]\n",
      "656250.0\n"
     ]
    }
   ],
   "source": [
    "import numpy as np\n",
    "\n",
    "sum = 0.0\n",
    "liczba = 1000000\n",
    "\n",
    "t = np.zeros(liczba,dtype=\"float32\")\n",
    "print(type(t[0]))\n",
    "t.fill(0.65625)\n",
    "\n",
    "print(t)\n",
    "for i in range(0,liczba):\n",
    "    sum += t[i]\n",
    "    \n",
    "print(sum)"
   ]
  },
  {
   "cell_type": "markdown",
   "metadata": {},
   "source": [
    "(ta część na slajdach wynosila 659966.125000\n",
    "\n",
    "$$656250 - 659966.125000 = 6283.875000$$\n",
    "\n",
    "Zmienna sum na poczatku wynosi 0 ale rosnie i staje sie bardzo duzo w stosunku do sumowanych liczb.\n",
    "Zaproponujmy inny algorytm:\n"
   ]
  },
  {
   "cell_type": "markdown",
   "metadata": {},
   "source": [
    "# Rodzaje błędów i ich oszacowania\n",
    "\n",
    "- błąd bezwzględny\n",
    "$$\\Delta x = \\tilde{x} - x,$$\n",
    "- błąd względny\n",
    "$$\\delta x = \\frac{\\tilde{x} - x}{x}, x \\neq 0$$\n",
    "    Możemy zapisać\n",
    "    $$\\tilde{x} = x(1 + \\delta x)$$"
   ]
  },
  {
   "cell_type": "markdown",
   "metadata": {},
   "source": [
    "# Rodzaje błędów\n",
    "\n",
    "Mamy 2 sposoby skracania liczb do długości $$t$$ cyfr ułamkowych\n",
    "\n",
    "- ucinanie - odrzucenie cyfr na prawo od t-ej pozycji\n",
    "   - wartość bezwzględna błędu dochodzi do $10^-t$\n",
    "- zaokrąglanie - jeżeli fragment liczby znajdujący się na prawo od jej $t$-tej cyfry ułamkowej jest mniejszy co do modułu od $$\\frac{1}{2}*10^{-1}$$, to $t$-tą cyfrę pozostawiamy bez zmian. Gdy jest większy to do $t$-tej cyfry dodajemy 1.\n",
    "\n",
    "Błąd zaokrąglenia leży w przedziale $$\\big[ - \\frac{1}{2} * 10^{-t}, \\frac{1}{2} * 10^{-t}\\big]$$"
   ]
  },
  {
   "cell_type": "markdown",
   "metadata": {},
   "source": [
    "# Algorytm numerycznie poprawny\n",
    "\n",
    "- taki, dla którego obliczone rozwiązanie jest $nieco$ $zaburzonym$ rozwiązaniem zadania z $nieco$ $zaburzonymi$ danymi.\n",
    "\n",
    "( $nieco$ $zaburzonymi$ - na poziomie błędu reprezentacji )\n",
    "\n",
    "Niestabilność numeryczna powstaje gdy mały błąd w trakcie dalszych obliczeń powiększa się i powoduje duży błąd wyniku"
   ]
  },
  {
   "cell_type": "markdown",
   "metadata": {},
   "source": [
    "Zadanie: Wyznacz najmniejszą liczbę naturalną taką, że $$floor(1 + 2^{-m}) > 1$$"
   ]
  },
  {
   "cell_type": "code",
   "execution_count": 29,
   "metadata": {},
   "outputs": [
    {
     "name": "stdout",
     "output_type": "stream",
     "text": [
      "m = 52.0\n"
     ]
    }
   ],
   "source": [
    "# algorytm\n",
    "m = 0\n",
    "u = 1.0\n",
    "w = u + 1.0\n",
    "while (w > 1):\n",
    "    m = m + 1.0\n",
    "    u = u/2.0\n",
    "    w = u + 1.0\n",
    "m = m - 1\n",
    "u = 2 * u\n",
    "print(\"m = \" + str(m))"
   ]
  },
  {
   "cell_type": "code",
   "execution_count": 32,
   "metadata": {},
   "outputs": [],
   "source": [
    "t = 0\n",
    "l = 12\n",
    "\n",
    "t,l = l,t"
   ]
  },
  {
   "cell_type": "code",
   "execution_count": null,
   "metadata": {},
   "outputs": [],
   "source": []
  }
 ],
 "metadata": {
  "kernelspec": {
   "display_name": "Python 3",
   "language": "python",
   "name": "python3"
  },
  "language_info": {
   "codemirror_mode": {
    "name": "ipython",
    "version": 3
   },
   "file_extension": ".py",
   "mimetype": "text/x-python",
   "name": "python",
   "nbconvert_exporter": "python",
   "pygments_lexer": "ipython3",
   "version": "3.6.5"
  }
 },
 "nbformat": 4,
 "nbformat_minor": 2
}
