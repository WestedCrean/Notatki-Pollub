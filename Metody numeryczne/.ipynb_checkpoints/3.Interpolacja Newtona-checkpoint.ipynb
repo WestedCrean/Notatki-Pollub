{
 "cells": [
  {
   "cell_type": "markdown",
   "metadata": {},
   "source": [
    "# Interpolacja wielomianowa - interpolacja Newtona\n",
    "\n",
    "Wielomian interpolacyjny Newtona:\n",
    "\n",
    "$$p(x) = f[x_0]+f[x_o , x_1](x-x_0) + ... + f[x_0 , ... , x_n](x-x_0)*...*(x-x_{n-1})$$\n",
    "\n",
    "Iloraz róznicowy n-tego rzędu:\n",
    "\n",
    "$$f[x_0 , ... , x_n] = \\sum_{i=0}^n \\frac{f(x_i)}{w^\\prime(x_i)} = \\frac{f[x_1 , ... , x_n] - f[x_0 , ... , x_{n-1}]}{x_n - x_0}$$\n",
    "\n",
    "przy czym  $f[x_k] = f_k , k = 0,1,...,n$"
   ]
  },
  {
   "cell_type": "markdown",
   "metadata": {},
   "source": [
    "### Ćwiczenie 3\n",
    "\n",
    "Znając $cos x $ dla $x=0,\\frac{\\pi}{4},\\frac{\\pi}{2}$, wyznacz przybliżoną wartość $cos \\frac{\\pi}{8}$"
   ]
  },
  {
   "cell_type": "code",
   "execution_count": 11,
   "metadata": {},
   "outputs": [
    {
     "name": "stdout",
     "output_type": "stream",
     "text": [
      "[{'x': 0, 'y': 1}, {'x': 0.785398, 'y': 0.7071067811865476}, {'x': 1.570796, 'y': 0}]\n"
     ]
    }
   ],
   "source": [
    "import numpy as np\n",
    "import math\n",
    "\n",
    "pi = 3.141592\n",
    "\n",
    "szukana = pi / 8;\n",
    "\n",
    "def make_nodes(x,y):\n",
    "    nodes = []\n",
    "    n = len(x)\n",
    "    for i in range (0,n):\n",
    "        nodes.append({'x':x[i],'y':y[i]})\n",
    "\n",
    "    return nodes\n",
    "        \n",
    "x_i = [0, pi/4, pi/2]\n",
    "y_i = [1, math.sqrt(2)/2, 0]\n",
    "#x_i = [-1,0,4,5]\n",
    "#y_i = [1,0,-1,0]\n",
    "\n",
    "nodes = make_nodes(x_i, y_i)\n",
    "\n",
    "\n",
    "    \n",
    "print(nodes)\n"
   ]
  },
  {
   "cell_type": "code",
   "execution_count": 4,
   "metadata": {},
   "outputs": [
    {
     "name": "stdout",
     "output_type": "stream",
     "text": [
      "True\n"
     ]
    }
   ],
   "source": [
    "def checkX_s():\n",
    "    return False if (szukana < nodes[0]['x'] or szukana > nodes[n - 1]['x']) else True\n",
    "\n",
    "print(checkX_s())"
   ]
  },
  {
   "cell_type": "code",
   "execution_count": 13,
   "metadata": {},
   "outputs": [
    {
     "name": "stdout",
     "output_type": "stream",
     "text": [
      "[1.         0.70710678 0.9003165 ]\n"
     ]
    }
   ],
   "source": [
    "def makeIRArray(nodes):\n",
    "    n = len(nodes)\n",
    "    IR = np.empty(n)\n",
    "    \n",
    "    for i in range(0,n):\n",
    "        IR[i] = nodes[i]['y']\n",
    "        \n",
    "    for i in range(1,n):\n",
    "        for k in range(n-1,i,-1):\n",
    "            try:\n",
    "                IR[k] = (IR[k] - IR[k - 1]) / (nodes[k]['y'] - nodes[k - i]['x'])\n",
    "            except:\n",
    "                print(f'{IR[k]} - {IR[k-1]} / 0 !')\n",
    "    return IR\n",
    "\n",
    "IR = makeIRArray(nodes)\n",
    "print(IR)"
   ]
  },
  {
   "cell_type": "code",
   "execution_count": 20,
   "metadata": {},
   "outputs": [
    {
     "ename": "TypeError",
     "evalue": "list indices must be integers or slices, not str",
     "output_type": "error",
     "traceback": [
      "\u001b[0;31m---------------------------------------------------------------------------\u001b[0m",
      "\u001b[0;31mTypeError\u001b[0m                                 Traceback (most recent call last)",
      "\u001b[0;32m<ipython-input-20-cdabd111e0a9>\u001b[0m in \u001b[0;36m<module>\u001b[0;34m()\u001b[0m\n\u001b[1;32m      7\u001b[0m     \u001b[0;32mreturn\u001b[0m \u001b[0mPx_s\u001b[0m\u001b[0;34m\u001b[0m\u001b[0m\n\u001b[1;32m      8\u001b[0m \u001b[0;34m\u001b[0m\u001b[0m\n\u001b[0;32m----> 9\u001b[0;31m \u001b[0mprint\u001b[0m\u001b[0;34m(\u001b[0m\u001b[0;34mf'cos ( pi / 8) = {P(IR)}'\u001b[0m\u001b[0;34m)\u001b[0m\u001b[0;34m\u001b[0m\u001b[0m\n\u001b[0m",
      "\u001b[0;32m<ipython-input-20-cdabd111e0a9>\u001b[0m in \u001b[0;36mP\u001b[0;34m(IR)\u001b[0m\n\u001b[1;32m      3\u001b[0m     \u001b[0mmultiplier\u001b[0m \u001b[0;34m=\u001b[0m \u001b[0;36m1\u001b[0m\u001b[0;34m\u001b[0m\u001b[0m\n\u001b[1;32m      4\u001b[0m     \u001b[0;32mfor\u001b[0m \u001b[0mi\u001b[0m \u001b[0;32min\u001b[0m \u001b[0mrange\u001b[0m\u001b[0;34m(\u001b[0m\u001b[0;36m1\u001b[0m\u001b[0;34m,\u001b[0m\u001b[0mn\u001b[0m\u001b[0;34m)\u001b[0m\u001b[0;34m:\u001b[0m\u001b[0;34m\u001b[0m\u001b[0m\n\u001b[0;32m----> 5\u001b[0;31m         \u001b[0mmultiplier\u001b[0m \u001b[0;34m*=\u001b[0m \u001b[0;34m(\u001b[0m\u001b[0mszukana\u001b[0m \u001b[0;34m-\u001b[0m \u001b[0mnodes\u001b[0m\u001b[0;34m[\u001b[0m\u001b[0mi\u001b[0m \u001b[0;34m-\u001b[0m \u001b[0;36m1\u001b[0m\u001b[0;34m]\u001b[0m\u001b[0;34m[\u001b[0m\u001b[0;34m'x'\u001b[0m\u001b[0;34m]\u001b[0m\u001b[0;34m)\u001b[0m\u001b[0;34m\u001b[0m\u001b[0m\n\u001b[0m\u001b[1;32m      6\u001b[0m         \u001b[0mPx_s\u001b[0m \u001b[0;34m+=\u001b[0m \u001b[0;34m(\u001b[0m\u001b[0mIR\u001b[0m\u001b[0;34m[\u001b[0m\u001b[0mi\u001b[0m\u001b[0;34m]\u001b[0m \u001b[0;34m*\u001b[0m \u001b[0mmultiplier\u001b[0m\u001b[0;34m)\u001b[0m\u001b[0;34m\u001b[0m\u001b[0m\n\u001b[1;32m      7\u001b[0m     \u001b[0;32mreturn\u001b[0m \u001b[0mPx_s\u001b[0m\u001b[0;34m\u001b[0m\u001b[0m\n",
      "\u001b[0;31mTypeError\u001b[0m: list indices must be integers or slices, not str"
     ]
    }
   ],
   "source": [
    "def P(IR,nodes):\n",
    "    Px_s = IR[0]\n",
    "    multiplier = 1\n",
    "    for i in range(1,n):\n",
    "        multiplier *= (szukana - nodes[i - 1]['x'])\n",
    "        Px_s += (IR[i] * multiplier)\n",
    "    return Px_s\n",
    "\n",
    "print(f'cos ( pi / 8) = {P(IR,nodes)}')"
   ]
  },
  {
   "cell_type": "markdown",
   "metadata": {},
   "source": [
    "Sprawdzając przy pomocy kalkulatora $ cos \\frac{\\pi}{8} = 0.9999765....$\n",
    "\n",
    "Dodajmy zatem więcej węzłów\n"
   ]
  },
  {
   "cell_type": "code",
   "execution_count": 18,
   "metadata": {},
   "outputs": [
    {
     "ename": "TypeError",
     "evalue": "list indices must be integers or slices, not str",
     "output_type": "error",
     "traceback": [
      "\u001b[0;31m---------------------------------------------------------------------------\u001b[0m",
      "\u001b[0;31mTypeError\u001b[0m                                 Traceback (most recent call last)",
      "\u001b[0;32m<ipython-input-18-2c59baccfd82>\u001b[0m in \u001b[0;36m<module>\u001b[0;34m()\u001b[0m\n\u001b[1;32m      5\u001b[0m \u001b[0;34m\u001b[0m\u001b[0m\n\u001b[1;32m      6\u001b[0m \u001b[0mnodes\u001b[0m \u001b[0;34m=\u001b[0m \u001b[0mmake_nodes\u001b[0m\u001b[0;34m(\u001b[0m\u001b[0mx_i\u001b[0m\u001b[0;34m,\u001b[0m \u001b[0my_i\u001b[0m\u001b[0;34m)\u001b[0m\u001b[0;34m\u001b[0m\u001b[0m\n\u001b[0;32m----> 7\u001b[0;31m \u001b[0mIR\u001b[0m \u001b[0;34m=\u001b[0m \u001b[0mmakeIRArray\u001b[0m\u001b[0;34m(\u001b[0m\u001b[0mnodes\u001b[0m\u001b[0;34m)\u001b[0m\u001b[0;34m\u001b[0m\u001b[0m\n\u001b[0m\u001b[1;32m      8\u001b[0m \u001b[0mcos\u001b[0m \u001b[0;34m=\u001b[0m \u001b[0mP\u001b[0m\u001b[0;34m(\u001b[0m\u001b[0mIR\u001b[0m\u001b[0;34m)\u001b[0m\u001b[0;34m\u001b[0m\u001b[0m\n\u001b[1;32m      9\u001b[0m \u001b[0mprint\u001b[0m\u001b[0;34m(\u001b[0m\u001b[0mcos\u001b[0m\u001b[0;34m)\u001b[0m\u001b[0;34m\u001b[0m\u001b[0m\n",
      "\u001b[0;32m<ipython-input-13-e97da9a2a5fb>\u001b[0m in \u001b[0;36mmakeIRArray\u001b[0;34m(nodes)\u001b[0m\n\u001b[1;32m      4\u001b[0m \u001b[0;34m\u001b[0m\u001b[0m\n\u001b[1;32m      5\u001b[0m     \u001b[0;32mfor\u001b[0m \u001b[0mi\u001b[0m \u001b[0;32min\u001b[0m \u001b[0mrange\u001b[0m\u001b[0;34m(\u001b[0m\u001b[0;36m0\u001b[0m\u001b[0;34m,\u001b[0m\u001b[0mn\u001b[0m\u001b[0;34m)\u001b[0m\u001b[0;34m:\u001b[0m\u001b[0;34m\u001b[0m\u001b[0m\n\u001b[0;32m----> 6\u001b[0;31m         \u001b[0mIR\u001b[0m\u001b[0;34m[\u001b[0m\u001b[0mi\u001b[0m\u001b[0;34m]\u001b[0m \u001b[0;34m=\u001b[0m \u001b[0mnodes\u001b[0m\u001b[0;34m[\u001b[0m\u001b[0mi\u001b[0m\u001b[0;34m]\u001b[0m\u001b[0;34m[\u001b[0m\u001b[0;34m'y'\u001b[0m\u001b[0;34m]\u001b[0m\u001b[0;34m\u001b[0m\u001b[0m\n\u001b[0m\u001b[1;32m      7\u001b[0m \u001b[0;34m\u001b[0m\u001b[0m\n\u001b[1;32m      8\u001b[0m     \u001b[0;32mfor\u001b[0m \u001b[0mi\u001b[0m \u001b[0;32min\u001b[0m \u001b[0mrange\u001b[0m\u001b[0;34m(\u001b[0m\u001b[0;36m1\u001b[0m\u001b[0;34m,\u001b[0m\u001b[0mn\u001b[0m\u001b[0;34m)\u001b[0m\u001b[0;34m:\u001b[0m\u001b[0;34m\u001b[0m\u001b[0m\n",
      "\u001b[0;31mTypeError\u001b[0m: list indices must be integers or slices, not str"
     ]
    }
   ],
   "source": [
    "       \n",
    "x_i = [-pi/2, -pi/4, 0, pi/4, pi/2]\n",
    "y_i = [1, math.sqrt(2)/2,1,math.sqrt(2)/2, 0]\n",
    "\n",
    "\n",
    "nodes = make_nodes(x_i, y_i)\n",
    "IR = makeIRArray(nodes)\n",
    "cos = P(IR)\n",
    "print(cos)\n"
   ]
  },
  {
   "cell_type": "code",
   "execution_count": null,
   "metadata": {},
   "outputs": [],
   "source": []
  }
 ],
 "metadata": {
  "kernelspec": {
   "display_name": "Python 3",
   "language": "python",
   "name": "python3"
  },
  "language_info": {
   "codemirror_mode": {
    "name": "ipython",
    "version": 3
   },
   "file_extension": ".py",
   "mimetype": "text/x-python",
   "name": "python",
   "nbconvert_exporter": "python",
   "pygments_lexer": "ipython3",
   "version": "3.6.5"
  }
 },
 "nbformat": 4,
 "nbformat_minor": 2
}
