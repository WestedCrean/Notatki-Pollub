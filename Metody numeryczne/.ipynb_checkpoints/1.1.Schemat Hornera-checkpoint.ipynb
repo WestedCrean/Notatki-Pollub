{
 "cells": [
  {
   "cell_type": "markdown",
   "metadata": {},
   "source": [
    "# Schemat Hornera\n",
    "\n",
    "Niech $P_n$ oznacza zbiór wielomianów stopnia $\\lt n$"
   ]
  },
  {
   "cell_type": "code",
   "execution_count": null,
   "metadata": {},
   "outputs": [],
   "source": [
    "import numpy as np\n",
    "\n",
    "n = 14\n",
    "\n",
    "wspolczynniki = np.random.rand(3,2)\n",
    "\n",
    "def Horner(n,a,c):\n",
    "    # n - stopien wielomianu\n",
    "    # a - tablica wspolczynnikow\n",
    "    # c - 'x' dla ktorego obliczyc wielomian\n",
    "    \n",
    "    b = a[0]\n",
    "    for element in a:\n",
    "        b = b * c + element\n",
    "    return b"
   ]
  }
 ],
 "metadata": {
  "kernelspec": {
   "display_name": "Python 3",
   "language": "python",
   "name": "python3"
  },
  "language_info": {
   "codemirror_mode": {
    "name": "ipython",
    "version": 3
   },
   "file_extension": ".py",
   "mimetype": "text/x-python",
   "name": "python",
   "nbconvert_exporter": "python",
   "pygments_lexer": "ipython3",
   "version": "3.6.5"
  }
 },
 "nbformat": 4,
 "nbformat_minor": 2
}
