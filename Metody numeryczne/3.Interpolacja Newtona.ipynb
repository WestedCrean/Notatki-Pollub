{
 "cells": [
  {
   "cell_type": "markdown",
   "metadata": {},
   "source": [
    "# Interpolacja wielomianowa - interpolacja Newtona\n",
    "\n",
    "Wielomian interpolacyjny Newtona:\n",
    "\n",
    "$$p(x) = f[x_0]+f[x_o , x_1](x-x_0) + ... + f[x_0 , ... , x_n](x-x_0)*...*(x-x_{n-1})$$\n",
    "\n",
    "Iloraz róznicowy n-tego rzędu:\n",
    "\n",
    "$$f[x_0 , ... , x_n] = \\sum_{i=0}^n \\frac{f(x_i)}{w^\\prime(x_i)} = \\frac{f[x_1 , ... , x_n] - f[x_0 , ... , x_{n-1}]}{x_n - x_0}$$\n",
    "\n",
    "przy czym  $f[x_k] = f_k , k = 0,1,...,n$"
   ]
  },
  {
   "cell_type": "markdown",
   "metadata": {},
   "source": [
    "### Ćwiczenie 3\n",
    "\n",
    "Znając $cos x $ dla $x=0,\\frac{\\pi}{4},\\frac{\\pi}{2}$, wyznacz przybliżoną wartość $cos \\frac{\\pi}{8}$"
   ]
  },
  {
   "cell_type": "code",
   "execution_count": 94,
   "metadata": {},
   "outputs": [
    {
     "data": {
      "image/png": "[encoded data removed]",
      "text/plain": [
       "<Figure size 432x288 with 1 Axes>"
      ]
     },
     "metadata": {},
     "output_type": "display_data"
    }
   ],
   "source": [
    "import numpy as np\n",
    "import matplotlib.pyplot as plt\n",
    "\n",
    "pi = math.pi\n",
    "\n",
    "szukana = pi / 8;\n",
    "\n",
    "x_i = [0, pi/4, pi/2]\n",
    "y_i = [1, math.sqrt(2)/2, 0]\n",
    "#x_i = [-1,0,4,5]\n",
    "#y_i = [1,0,-1,0]\n",
    "\n",
    "\n",
    "n = len(x_i)\n",
    "\n",
    "fig, ax = plt.subplots()\n",
    "line1 = ax.plot(x_i,y_i)\n",
    "plt.show()\n"
   ]
  },
  {
   "cell_type": "code",
   "execution_count": 95,
   "metadata": {},
   "outputs": [
    {
     "name": "stdout",
     "output_type": "stream",
     "text": [
      "True\n"
     ]
    }
   ],
   "source": [
    "def checkX_s(x,n):\n",
    "    return False if (szukana < x[0] or szukana > x[n - 1]) else True\n",
    "\n",
    "print(checkX_s(x_i,n))"
   ]
  },
  {
   "cell_type": "code",
   "execution_count": 96,
   "metadata": {},
   "outputs": [
    {
     "name": "stdout",
     "output_type": "stream",
     "text": [
      "[ 1.          0.70710678 -0.81870481]\n"
     ]
    }
   ],
   "source": [
    "def coeff(x,y):\n",
    "    n = len(x)\n",
    "    IR = np.zeros(n)\n",
    "    \n",
    "    for i in range(0,n):\n",
    "        IR[i] = y[i]\n",
    "        \n",
    "    for i in range(1,n):\n",
    "        for k in range(n-1,i,-1):\n",
    "            try:\n",
    "                IR[k] = float(IR[k] - IR[k - 1]) / float(x[k] - y[k - i])\n",
    "            except:\n",
    "                print(f'{IR[k]} - {IR[k-1]} / 0 !')\n",
    "    return IR\n",
    "\n",
    "IR = coeff(x_i,y_i)\n",
    "print(IR)"
   ]
  },
  {
   "cell_type": "code",
   "execution_count": 97,
   "metadata": {},
   "outputs": [
    {
     "name": "stdout",
     "output_type": "stream",
     "text": [
      "cos ( pi / 8) = 1.4039347547059773\n"
     ]
    }
   ],
   "source": [
    "def P(x, IR):\n",
    "    multiplier = 1\n",
    "    n = len(x)\n",
    "    Px_s = IR[0];\n",
    "    for i in range(1,n):\n",
    "        multiplier *= (szukana - x[i - 1])\n",
    "        Px_s += (IR[i] * multiplier)\n",
    "    return Px_s\n",
    "\n",
    "print(f'cos ( pi / 8) = {P(x_i,IR)}')\n"
   ]
  },
  {
   "cell_type": "markdown",
   "metadata": {},
   "source": [
    "Sprawdzając przy pomocy kalkulatora $ cos \\frac{\\pi}{8} = 0.9999765....$\n",
    "\n",
    "Dodajmy zatem więcej węzłów\n"
   ]
  },
  {
   "cell_type": "code",
   "execution_count": 98,
   "metadata": {},
   "outputs": [
    {
     "name": "stdout",
     "output_type": "stream",
     "text": [
      "33.036937299927814\n"
     ]
    }
   ],
   "source": [
    "x_i2 = [-pi/2, -pi/4, 0, pi/4, pi/2]\n",
    "y_i2 = [1, math.sqrt(2)/2,1,math.sqrt(2)/2, 0]\n",
    "nodes = []\n",
    "multiplier = 1\n",
    "\n",
    "    \n",
    "\n",
    "IR = coeff(x_i2,y_i2)\n",
    "cos = P(x_i2,IR)\n",
    "print(cos)\n"
   ]
  },
  {
   "cell_type": "code",
   "execution_count": null,
   "metadata": {},
   "outputs": [],
   "source": []
  }
 ],
 "metadata": {
  "kernelspec": {
   "display_name": "Python 3",
   "language": "python",
   "name": "python3"
  },
  "language_info": {
   "codemirror_mode": {
    "name": "ipython",
    "version": 3
   },
   "file_extension": ".py",
   "mimetype": "text/x-python",
   "name": "python",
   "nbconvert_exporter": "python",
   "pygments_lexer": "ipython3",
   "version": "3.6.8"
  }
 },
 "nbformat": 4,
 "nbformat_minor": 2
}
