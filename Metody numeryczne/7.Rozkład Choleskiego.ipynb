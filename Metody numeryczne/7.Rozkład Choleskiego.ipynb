{
 "cells": [
  {
   "cell_type": "markdown",
   "metadata": {},
   "source": [
    "# Rozkład Choleskiego\n",
    "\n",
    "Macierz *symetryczna* i *dodatnio określona* rozkłada się jednoznacznie na czynniki\n",
    "\n",
    "$$A = LL^T$$\n",
    "\n",
    "gdzie $L$ jest macierzą dolnie trójkątną postaci\n",
    "\n",
    "$$L = \\begin{bmatrix}l_{11} & 0 & ... & 0\\\\l_{21} & l_{22} & \\ddots & \\vdots\\\\\\vdots & \\ddots & \\ddots & \\vdots\\\\l_{n1} & &\\ldots & l_{nn}\\end{bmatrix}\n",
    "$$\n",
    "\n",
    "taką, że $l_{ii} > 0$ dla $i=1,2,3,\\ldots,n$\n",
    "\n",
    "\n",
    "Elementy macierzy $L$ powstałej w rozkładzie Choleskiego macierzy $A$ wyrażają się wzorami\n",
    "\n",
    "$$l_{ss} =  \\sqrt{a_{ss} - \\sum_{j=1}^{s-1} l_{sj}^2}$$\n",
    "$$l_{is} = \\big{(} a_{is} - \\sum_{j=1}^{s-1} l_{ij}l_{sj} \\big{)} \\big{/} l_{ss}$$\n",
    "\n",
    "Rozwiązanie układu równań liniowych postaci $Ax = b$ przy wykorzystaniu rozkładu Choleskiego sprowadza się do rozwiązania układu dwóch równań liniowych o macierzach trójkątnych\n",
    "\n",
    "$$ \\begin{align}\n",
    "Ly & = b \\\\\n",
    "L^Tx & = y\n",
    "\\end{align}$$\n",
    "\n",
    "W celu jego rozwiązania należy wykonać *postępowanie odwrotne Gaussa* dla macierzy dolnie trójkątnej i górnie trójkątnej"
   ]
  },
  {
   "cell_type": "markdown",
   "metadata": {},
   "source": [
    "### Zadanie: Rozwiązać za pomocą rozkładu Choleskiego\n",
    "\n",
    "$$ \\begin{align}\n",
    "A = \\begin{bmatrix}1 & -2 & 3 & 1\\\\-2 & 5 & -8 & 1\\\\3 & -8 & 17 & -7\\\\1 & 1 & -7 & 18\\end{bmatrix}\n",
    " b = \\begin{bmatrix}1\\\\-1\\\\3\\\\-4\\end{bmatrix}\n",
    "\\end{align}$$\n",
    "\n",
    "\n",
    "- [x] sprawdzamy czy macierz A jest symetryczna\n",
    "- [ ] sprawdzamy czy macierz A jest dodatnio określona -\n",
    "\n",
    "czyli liczymy minory główne macierzy - wyznaczniki po kolei od lewego górnego rogu  1x1, 2x2, 3x3, 4x4 i sprawdzamy czy wszystkie są $> 0$"
   ]
  },
  {
   "cell_type": "code",
   "execution_count": 42,
   "metadata": {},
   "outputs": [
    {
     "name": "stdout",
     "output_type": "stream",
     "text": [
      "[[ 1 -2  3  1]\n",
      " [-2  5 -8  1]\n",
      " [ 3 -8 17 -7]\n",
      " [ 1  1 -7 18]]\n"
     ]
    }
   ],
   "source": [
    "import numpy as np\n",
    "import math\n",
    "import scipy.linalg\n",
    "\n",
    "A = np.array([[1,-2,3,1],[-2,5,-8,1],[3,-8,17,-7],[1,1,-7,18]])\n",
    "b = np.array([1,-1,3,-4])\n",
    "\n",
    "print(A)"
   ]
  },
  {
   "cell_type": "code",
   "execution_count": 43,
   "metadata": {},
   "outputs": [
    {
     "name": "stdout",
     "output_type": "stream",
     "text": [
      "Macierz A jest dodatnio okreslona\n"
     ]
    }
   ],
   "source": [
    "dodatnioOkreslona = True\n",
    "\n",
    "for i in range(0,len(A)):\n",
    "    # i = 0,1,2,3\n",
    "    # A[from:to]\n",
    "    # liczymy normalnie metoda laplace'a ale tutaj mozemy byc leniwymi chujami\n",
    "    a = A[0:i+1,0:i+1]\n",
    "    if(np.linalg.det(a) <= 0):\n",
    "        dodatnioOkreslona = False\n",
    "        break\n",
    "        \n",
    "if(dodatnioOkreslona):\n",
    "    print(\"Macierz A jest dodatnio okreslona\")\n",
    "else:\n",
    "    print(\"Macierz A nie jest dodatnio okreslona\")"
   ]
  },
  {
   "cell_type": "markdown",
   "metadata": {},
   "source": [
    "Skoro tak, mozemy przystapic do układania macierzy L"
   ]
  },
  {
   "cell_type": "code",
   "execution_count": 44,
   "metadata": {},
   "outputs": [
    {
     "name": "stdout",
     "output_type": "stream",
     "text": [
      "[[ 1.  0.  0.  0.]\n",
      " [-2.  1.  0.  0.]\n",
      " [ 3. -2.  2.  0.]\n",
      " [ 1.  3. -2.  2.]]\n",
      "\n",
      "[[ 1.  0.  0.  0.]\n",
      " [-2.  1.  0.  0.]\n",
      " [ 3. -2.  2.  0.]\n",
      " [ 1.  3. -2.  2.]]\n"
     ]
    }
   ],
   "source": [
    "L = np.zeros([len(A),len(A)]) # rozmiar taki jak A (4x4)\n",
    "\n",
    "for s in range(0,len(L)):\n",
    "    for i in range(0,len(L)):\n",
    "        if(i != s):\n",
    "            # wzor l_is\n",
    "            sigma = 0\n",
    "            for j in range(0,s):\n",
    "                sigma += L[j][i]*L[j][s]                \n",
    "            L[s][i] = A[s][i] - sigma\n",
    "            if(L[s][s] != 0):\n",
    "                L[s][i] = L[s][i]/L[s][s]\n",
    "        else:\n",
    "            # wzor l_ss\n",
    "            sigma = 0\n",
    "            for j in range(0,s):\n",
    "                sigma += L[j][s]*L[j][s]\n",
    "            L[s][s] = A[s][s] - sigma\n",
    "            L[s][s] = math.sqrt(L[s][s])\n",
    "L = L.transpose()\n",
    "print(L)\n",
    "print()\n",
    "print(scipy.linalg.cholesky(A, lower=True)) # porownanie z rozkladem choleskiego z numpy"
   ]
  },
  {
   "cell_type": "code",
   "execution_count": 45,
   "metadata": {},
   "outputs": [
    {
     "name": "stdout",
     "output_type": "stream",
     "text": [
      "[ 1.  1.  1. -3.]\n"
     ]
    }
   ],
   "source": [
    "# liczymy y z ukladu rownan ( L * y = b)\n",
    "y = np.linalg.solve(L,b)\n",
    "print(y)"
   ]
  },
  {
   "cell_type": "code",
   "execution_count": 46,
   "metadata": {},
   "outputs": [
    {
     "name": "stdout",
     "output_type": "stream",
     "text": [
      "[12.5  3.5 -1.  -1.5]\n"
     ]
    }
   ],
   "source": [
    "# a teraz majac y rozwiazujemy  (L^T * x = y)\n",
    "x = np.linalg.solve(L.transpose(),y)\n",
    "print(x)"
   ]
  },
  {
   "cell_type": "code",
   "execution_count": 47,
   "metadata": {},
   "outputs": [
    {
     "name": "stdout",
     "output_type": "stream",
     "text": [
      "[[ 1 -2  3  1]\n",
      " [-2  5 -8  1]\n",
      " [ 3 -8 17 -7]\n",
      " [ 1  1 -7 18]]\n",
      "*\n",
      "[ 1 -1  3 -4]\n",
      "=\n",
      "[12.5  3.5 -1.  -1.5]\n"
     ]
    }
   ],
   "source": [
    "# a teraz za pomoca numpy sprawdzamy\n",
    "\n",
    "res = np.linalg.solve(A,b)\n",
    "print(A)\n",
    "print(\"*\")\n",
    "print(b)\n",
    "print(\"=\")\n",
    "print(res)"
   ]
  },
  {
   "cell_type": "code",
   "execution_count": null,
   "metadata": {},
   "outputs": [],
   "source": []
  }
 ],
 "metadata": {
  "kernelspec": {
   "display_name": "Python 3",
   "language": "python",
   "name": "python3"
  },
  "language_info": {
   "codemirror_mode": {
    "name": "ipython",
    "version": 3
   },
   "file_extension": ".py",
   "mimetype": "text/x-python",
   "name": "python",
   "nbconvert_exporter": "python",
   "pygments_lexer": "ipython3",
   "version": "3.6.5"
  }
 },
 "nbformat": 4,
 "nbformat_minor": 2
}
