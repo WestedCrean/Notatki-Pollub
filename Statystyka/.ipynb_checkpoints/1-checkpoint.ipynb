{
 "cells": [
  {
   "cell_type": "code",
   "execution_count": 8,
   "metadata": {},
   "outputs": [
    {
     "name": "stdout",
     "output_type": "stream",
     "text": [
      "[4 5 1 2 7 2 6 9 3]\n",
      "Mean: 4.33\n",
      "Median: 4.00\n",
      "Mode: 2.00\n"
     ]
    }
   ],
   "source": [
    "import numpy as np\n",
    "from scipy import stats\n",
    "\n",
    "data = np.array([4,5,1,2,7,2,6,9,3])\n",
    "print(data)\n",
    "\n",
    "mean = np.mean(data)\n",
    "median = np.median(data)\n",
    "mode = stats.mode(data)\n",
    "\n",
    "print(f\"Mean: {mean:.2f}\")\n",
    "print(f\"Median: {median:.2f}\")\n",
    "print(f\"Mode: {mode[0][0]:.2f}\")"
   ]
  },
  {
   "cell_type": "markdown",
   "metadata": {},
   "source": [
    "**Wariancja populacji:**\n",
    "\n",
    "$$\\frac{1}{N} \\sum_{i=1}^{N} (x_i - \\mu)^2$$\n",
    "\n",
    "**Wariancja próbki**\n",
    "\n",
    "$$\\frac{1}{N-1} \\sum_{i=1}^{N} (x_i - \\mu)^2$$\n"
   ]
  },
  {
   "cell_type": "code",
   "execution_count": 15,
   "metadata": {},
   "outputs": [
    {
     "name": "stdout",
     "output_type": "stream",
     "text": [
      "Wariancja populacji : 6.21\n",
      "Wariancja próbki : 6.99\n"
     ]
    }
   ],
   "source": [
    "variance = 0\n",
    "for i in range(1,len(data)):\n",
    "    variance += (data[i] - mean)**2\n",
    "variance = variance / len(data)\n",
    "\n",
    "print(f\"Wariancja populacji : {variance:.2f}\")\n",
    "variance *= (len(data)/ (len(data) - 1))\n",
    "print(f\"Wariancja próbki : {variance:.2f}\")"
   ]
  },
  {
   "cell_type": "markdown",
   "metadata": {},
   "source": [
    "Dlatego, że wariancja wyraża się w wielkościach$^2$ lepiej korzystać z odchylenia standardowego\n",
    "\n",
    "$$ \\sigma = \\sqrt{\\text{wariancja populacji}} = \\sqrt{\\frac{1}{N} \\sum_{i=1}^{N} (x_i - \\mu)^2}$$\n",
    "\n",
    "$$ s = \\sqrt{\\text{wariancja próbki}} = \\sqrt{\\frac{1}{N-1} \\sum_{i=1}^{N} (x_i - \\mu)^2}$$"
   ]
  },
  {
   "cell_type": "markdown",
   "metadata": {},
   "source": [
    "**Kwantyle** to po prostu identyczne części danych. Kwantyle obejmują kwartyle (rzędu 1/4), kwintyle (rzędu 1/5), decyle (1/10), percentyle (1/100) itd\n",
    "\n",
    "**Rozstęp kwartylny** to różnica między kwantylem rzędu 3/4 a kwantylem rzędu 1/4"
   ]
  },
  {
   "cell_type": "code",
   "execution_count": 27,
   "metadata": {},
   "outputs": [
    {
     "name": "stdout",
     "output_type": "stream",
     "text": [
      "Wariancja: 400.00\n",
      "Odchylenie standardowe: 20.00\n",
      "Zakres: 69.00\n",
      "20% : 39.80\n",
      "80% : 77.40\n",
      "100% : 93.00\n",
      "Odstep miedzykwartylny: 28.50\n"
     ]
    }
   ],
   "source": [
    "from statistics import variance, stdev\n",
    "\n",
    "game_points = np.array([35,56,43,59,63,79,35,41,64,43,93,60,77,24,82])\n",
    "\n",
    "#obliczamy wariancje\n",
    "dt_var = variance(game_points)\n",
    "dt_std = stdev(game_points)\n",
    "dt_rng = np.max(game_points) - np.min(game_points)\n",
    "\n",
    "print(f\"Wariancja: {dt_var:.2f}\")\n",
    "print(f\"Odchylenie standardowe: {dt_std:.2f}\")\n",
    "print(f\"Zakres: {dt_rng:.2f}\")\n",
    "\n",
    "for val in [20,80,100]:\n",
    "   dt_qntls = np.percentile(game_points,val)\n",
    "   print(f\"{val}% : {dt_qntls:.2f}\")\n",
    "    \n",
    "q75,q25 = np.percentile(game_points, [75 ,25])\n",
    "print(f\"Odstep miedzykwartylny: {(q75-q25):.2f}\")\n"
   ]
  },
  {
   "cell_type": "markdown",
   "metadata": {},
   "source": [
    "## Testowanie Hipotez Statystycznych\n",
    "\n",
    "to proces wyciągania wniosków o populacji na podstawie pewnego testu statystycznego. Hipoteza to pewne stwierdzenie dotyczące parametrów populacji.\n",
    "\n",
    "- Hipoteza zerowa – oznaczana jako H0, jest zwykle hipotezą, gdzie wyniki z próbek obserwacyjnych wynikają z czystego przypadku.\n",
    "- Hipoteza alternatywna – oznaczano jako H1, jest hipotezą, gdzie wyniki z próbek obserwacyjnych są zdefiniowane przez jakąś nielosową przyczynę.\n",
    "\n",
    "Na przykład, załóżmy, że chcieliśmy ustalić czy moneta jest sprawiedliwa i dobrze wyważona. Hipoteza zerowa mogłaby być taka, że połowa rzutów skończy się orłem, a połowa reszką. Alternatywną hipotezą mogłoby być to, że liczba orłów i reszek będzie różna. W sposób symboliczny, możemy to zapisać następująco:\n",
    "\n",
    "$$H_0: P = 0.5$$\n",
    "$$H_1: P \\neq 0.5$$\n",
    "\n",
    "Załóżmy, że rzuciliśmy monetą 50 razy i otrzymaliśmy 40 orłów i 10 reszek. Po otrzymaniu takiego wyniku, będziemy skłonni odrzucić hipotezę zerową. Moglibyśmy wywnioskować, bazując na dowodach, że moneta prawdopodobnie jest niesprawiedliwa i źle wyważona.\n",
    "\n",
    "\n",
    "### Kroki w testowaniu hipotez\n",
    "\n",
    "1. Postawienie hipotez. W nim zawiera się postawienie hipotezy zerowej i alternatywnej. Hipotezy są stawiane w taki sposób aby się wzajemnie wykluczały. To znaczy, że jeśli jedna jest prawdziwa, to druga musi być fałszywa.\n",
    "\n",
    "2. Zebranie próbki danych.\n",
    "\n",
    "3. Analiza próbki danych. Znalezienie wartości statystyki testowej (średni wynik, proporcje, wynik-t, wynik-z, itd.) opisane w planie analizy.\n",
    "\n",
    "4. Interpretacja wyników. Zastosowanie zasady decyzyjnej opisanej w planie analizy. Jeżeli wartość statystki testowej, bazująca na hipotezie zerowej, jest nieprawdopodobna, wtedy odrzucamy hipotezę zerową.\n",
    "\n",
    "\n",
    "Z testowania hipotez mogą wyniknąć dwa błędy:\n",
    "\n",
    "- Błąd 1 typu – występuje wtedy gdy badacz odrzuca hipotezę zerową, chociaż jest prawdziwa. Prawdopodobieństwo popełnienia błędu 1 typu nazywamy poziomem istotności. To prawdopodobieństwo jest również zwane alfą, i często zapisywane jako α.\n",
    "\n",
    "- Błąd 2 typu – występuje kiedy badacz nie odrzuca hipotezy zerowej chociaż jest nieprawdziwa. Prawdopodobieństwo popełnienia błędu 2 typu nazywamy Betą, która jest często oznaczana przez β. Prawdopodobieństwo niepopełnienia błędu 2 typu jest nazywane mocą testu.\n",
    "\n",
    "### Zasady decyzyjności\n",
    "\n",
    "**Wartość P** – mierzy siłę dowodów wspierających hipotezę zerową. Załóżmy, że statystyka testu wynosi Wartość P jest prawdopodobieństwem zaobserwowania statystyki testu tak skrajnej jak S, zakładając prawdziwą hipotezę zerową. Jeżeli P wynosi mniej niż poziom istotności, wtedy odrzucamy hipotezę zerową.\n",
    "\n",
    "**Przedział ufności** – jest zakresem wartości. Jeżeli statystyka testu mieści się w przedziale ufności, hipoteza zerowa nie jest odrzucona. Przedział ufności jest tak definiowany aby szansa popełnienia błędu 1 typu była tożsama z poziomem istotności."
   ]
  },
  {
   "cell_type": "markdown",
   "metadata": {},
   "source": [
    "# Przykład testowania hipotezy\n",
    "\n",
    "Wytwórca czekolady który jest również Twoim znajomym, zarzeka się że wszystkie czekolady produkowane w jego fabryce ważą conajmniej 1000g, ale masz przeczucie że to nieprawda. Obaj zebraliście próbkę 30 czekolad i odkryliście, że średnia waga czekolady to 990g z odchyleniem standardowym 12.5g. Zakładając poziom istotności 0.05, czy możemy odrzucić hipotezę Twojego znajomego?\n",
    "\n",
    "Załóżmy hipotezę zerową $\\mu_0 > 1000$ (każda z czekolad waży więcej niż 1000g) oraz hipotezę alternatywną $\\mu_1 \\leq 1000$\n",
    "\n",
    "Po zebraniu czekolad załóżmy, że mamy $\\bar{x}$\n",
    "\n",
    "    "
   ]
  },
  {
   "cell_type": "code",
   "execution_count": null,
   "metadata": {},
   "outputs": [],
   "source": []
  }
 ],
 "metadata": {
  "kernelspec": {
   "display_name": "Python 3",
   "language": "python",
   "name": "python3"
  },
  "language_info": {
   "codemirror_mode": {
    "name": "ipython",
    "version": 3
   },
   "file_extension": ".py",
   "mimetype": "text/x-python",
   "name": "python",
   "nbconvert_exporter": "python",
   "pygments_lexer": "ipython3",
   "version": "3.6.8"
  }
 },
 "nbformat": 4,
 "nbformat_minor": 2
}
